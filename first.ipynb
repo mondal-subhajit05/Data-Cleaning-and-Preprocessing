{
 "cells": [
  {
   "cell_type": "code",
   "execution_count": 1,
   "id": "ebb70b8b",
   "metadata": {},
   "outputs": [],
   "source": [
    "# import libary (Pandas for Data manipulation)\n",
    "import pandas as pd"
   ]
  },
  {
   "cell_type": "code",
   "execution_count": 2,
   "id": "e52cc62b",
   "metadata": {},
   "outputs": [],
   "source": [
    "# load the dataset\n",
    "df=pd.read_csv(r\"C:\\Users\\subha\\Downloads\\netflix_titles.csv\")"
   ]
  },
  {
   "cell_type": "code",
   "execution_count": 3,
   "id": "4ca16d55",
   "metadata": {},
   "outputs": [
    {
     "name": "stdout",
     "output_type": "stream",
     "text": [
      "<bound method NDFrame.head of      show_id     type                  title         director  \\\n",
      "0         s1    Movie   Dick Johnson Is Dead  Kirsten Johnson   \n",
      "1         s2  TV Show          Blood & Water              NaN   \n",
      "2         s3  TV Show              Ganglands  Julien Leclercq   \n",
      "3         s4  TV Show  Jailbirds New Orleans              NaN   \n",
      "4         s5  TV Show           Kota Factory              NaN   \n",
      "...      ...      ...                    ...              ...   \n",
      "8802   s8803    Movie                 Zodiac    David Fincher   \n",
      "8803   s8804  TV Show            Zombie Dumb              NaN   \n",
      "8804   s8805    Movie             Zombieland  Ruben Fleischer   \n",
      "8805   s8806    Movie                   Zoom     Peter Hewitt   \n",
      "8806   s8807    Movie                 Zubaan      Mozez Singh   \n",
      "\n",
      "                                                   cast        country  \\\n",
      "0                                                   NaN  United States   \n",
      "1     Ama Qamata, Khosi Ngema, Gail Mabalane, Thaban...   South Africa   \n",
      "2     Sami Bouajila, Tracy Gotoas, Samuel Jouy, Nabi...            NaN   \n",
      "3                                                   NaN            NaN   \n",
      "4     Mayur More, Jitendra Kumar, Ranjan Raj, Alam K...          India   \n",
      "...                                                 ...            ...   \n",
      "8802  Mark Ruffalo, Jake Gyllenhaal, Robert Downey J...  United States   \n",
      "8803                                                NaN            NaN   \n",
      "8804  Jesse Eisenberg, Woody Harrelson, Emma Stone, ...  United States   \n",
      "8805  Tim Allen, Courteney Cox, Chevy Chase, Kate Ma...  United States   \n",
      "8806  Vicky Kaushal, Sarah-Jane Dias, Raaghav Chanan...          India   \n",
      "\n",
      "              date_added  release_year rating   duration  \\\n",
      "0     September 25, 2021          2020  PG-13     90 min   \n",
      "1     September 24, 2021          2021  TV-MA  2 Seasons   \n",
      "2     September 24, 2021          2021  TV-MA   1 Season   \n",
      "3     September 24, 2021          2021  TV-MA   1 Season   \n",
      "4     September 24, 2021          2021  TV-MA  2 Seasons   \n",
      "...                  ...           ...    ...        ...   \n",
      "8802   November 20, 2019          2007      R    158 min   \n",
      "8803        July 1, 2019          2018  TV-Y7  2 Seasons   \n",
      "8804    November 1, 2019          2009      R     88 min   \n",
      "8805    January 11, 2020          2006     PG     88 min   \n",
      "8806       March 2, 2019          2015  TV-14    111 min   \n",
      "\n",
      "                                              listed_in  \\\n",
      "0                                         Documentaries   \n",
      "1       International TV Shows, TV Dramas, TV Mysteries   \n",
      "2     Crime TV Shows, International TV Shows, TV Act...   \n",
      "3                                Docuseries, Reality TV   \n",
      "4     International TV Shows, Romantic TV Shows, TV ...   \n",
      "...                                                 ...   \n",
      "8802                     Cult Movies, Dramas, Thrillers   \n",
      "8803             Kids' TV, Korean TV Shows, TV Comedies   \n",
      "8804                            Comedies, Horror Movies   \n",
      "8805                 Children & Family Movies, Comedies   \n",
      "8806     Dramas, International Movies, Music & Musicals   \n",
      "\n",
      "                                            description  \n",
      "0     As her father nears the end of his life, filmm...  \n",
      "1     After crossing paths at a party, a Cape Town t...  \n",
      "2     To protect his family from a powerful drug lor...  \n",
      "3     Feuds, flirtations and toilet talk go down amo...  \n",
      "4     In a city of coaching centers known to train I...  \n",
      "...                                                 ...  \n",
      "8802  A political cartoonist, a crime reporter and a...  \n",
      "8803  While living alone in a spooky town, a young g...  \n",
      "8804  Looking to survive in a world taken over by zo...  \n",
      "8805  Dragged from civilian life, a former superhero...  \n",
      "8806  A scrappy but poor boy worms his way into a ty...  \n",
      "\n",
      "[8807 rows x 12 columns]>\n"
     ]
    }
   ],
   "source": [
    "# Print first 5 rows\n",
    "print(df.head)"
   ]
  },
  {
   "cell_type": "code",
   "execution_count": 4,
   "id": "f6e64aba",
   "metadata": {},
   "outputs": [
    {
     "name": "stdout",
     "output_type": "stream",
     "text": [
      "Shape: (8807, 12)\n"
     ]
    }
   ],
   "source": [
    "# Check Basic Information about the dataset\n",
    "print(\"Shape:\", df.shape)"
   ]
  },
  {
   "cell_type": "code",
   "execution_count": 5,
   "id": "9b44783e",
   "metadata": {},
   "outputs": [
    {
     "name": "stdout",
     "output_type": "stream",
     "text": [
      "Missing value in each columns: show_id            0\n",
      "type               0\n",
      "title              0\n",
      "director        2634\n",
      "cast             825\n",
      "country          831\n",
      "date_added        10\n",
      "release_year       0\n",
      "rating             4\n",
      "duration           3\n",
      "listed_in          0\n",
      "description        0\n",
      "dtype: int64\n"
     ]
    }
   ],
   "source": [
    "print(\"Missing value in each columns:\", df.isnull().sum())"
   ]
  },
  {
   "cell_type": "code",
   "execution_count": 7,
   "id": "eed6f2fc",
   "metadata": {},
   "outputs": [],
   "source": [
    "import matplotlib.pyplot as plt\n",
    "import seaborn as sns"
   ]
  },
  {
   "cell_type": "code",
   "execution_count": 8,
   "id": "edea3dd9",
   "metadata": {},
   "outputs": [
    {
     "data": {
      "image/png": "[encoded data removed]",
      "text/plain": [
       "<Figure size 800x600 with 2 Axes>"
      ]
     },
     "metadata": {},
     "output_type": "display_data"
    }
   ],
   "source": [
    "plt.figure(figsize=(8,6))\n",
    "sns.heatmap(df.isnull(), cmap=\"viridis\")\n",
    "plt.title(\"Missing Values Heatmap\")\n",
    "plt.show()"
   ]
  },
  {
   "cell_type": "code",
   "execution_count": 9,
   "id": "9f1353b0",
   "metadata": {},
   "outputs": [
    {
     "name": "stdout",
     "output_type": "stream",
     "text": [
      "Data types: show_id         object\n",
      "type            object\n",
      "title           object\n",
      "director        object\n",
      "cast            object\n",
      "country         object\n",
      "date_added      object\n",
      "release_year     int64\n",
      "rating          object\n",
      "duration        object\n",
      "listed_in       object\n",
      "description     object\n",
      "dtype: object\n"
     ]
    }
   ],
   "source": [
    "print(\"Data types:\", df.dtypes)"
   ]
  },
  {
   "cell_type": "code",
   "execution_count": 10,
   "id": "4823a7e3",
   "metadata": {},
   "outputs": [
    {
     "name": "stdout",
     "output_type": "stream",
     "text": [
      "number of duplicats: 0\n"
     ]
    }
   ],
   "source": [
    "print(\"number of duplicats:\", df.duplicated().sum())"
   ]
  },
  {
   "cell_type": "code",
   "execution_count": 11,
   "id": "f7feedb4",
   "metadata": {},
   "outputs": [
    {
     "data": {
      "application/vnd.microsoft.datawrangler.viewer.v0+json": {
       "columns": [
        {
         "name": "index",
         "rawType": "int64",
         "type": "integer"
        },
        {
         "name": "director",
         "rawType": "object",
         "type": "string"
        }
       ],
       "ref": "c7363821-5a4d-4bd1-b09c-c5df040504e1",
       "rows": [
        [
         "0",
         "Kirsten Johnson"
        ],
        [
         "1",
         "unknown"
        ],
        [
         "2",
         "Julien Leclercq"
        ],
        [
         "3",
         "unknown"
        ],
        [
         "4",
         "unknown"
        ],
        [
         "5",
         "Mike Flanagan"
        ],
        [
         "6",
         "Robert Cullen, José Luis Ucha"
        ],
        [
         "7",
         "Haile Gerima"
        ],
        [
         "8",
         "Andy Devonshire"
        ],
        [
         "9",
         "Theodore Melfi"
        ],
        [
         "10",
         "unknown"
        ],
        [
         "11",
         "Kongkiat Komesiri"
        ],
        [
         "12",
         "Christian Schwochow"
        ],
        [
         "13",
         "Bruno Garotti"
        ],
        [
         "14",
         "unknown"
        ],
        [
         "15",
         "unknown"
        ],
        [
         "16",
         "Pedro de Echave García, Pablo Azorín Williams"
        ],
        [
         "17",
         "unknown"
        ],
        [
         "18",
         "Adam Salky"
        ],
        [
         "19",
         "unknown"
        ],
        [
         "20",
         "Olivier Megaton"
        ],
        [
         "21",
         "unknown"
        ],
        [
         "22",
         "K.S. Ravikumar"
        ],
        [
         "23",
         "Alex Woo, Stanley Moore"
        ],
        [
         "24",
         "S. Shankar"
        ],
        [
         "25",
         "unknown"
        ],
        [
         "26",
         "Rajiv Menon"
        ],
        [
         "27",
         "Dennis Dugan"
        ],
        [
         "28",
         "Scott Stewart"
        ],
        [
         "29",
         "Robert Luketic"
        ],
        [
         "30",
         "Ashwiny Iyer Tiwari, Abhishek Chaubey, Saket Chaudhary"
        ],
        [
         "31",
         "unknown"
        ],
        [
         "32",
         "unknown"
        ],
        [
         "33",
         "unknown"
        ],
        [
         "34",
         "unknown"
        ],
        [
         "35",
         "Daniel Sandu"
        ],
        [
         "36",
         "Cédric Jimenez"
        ],
        [
         "37",
         "unknown"
        ],
        [
         "38",
         "George Nolfi"
        ],
        [
         "39",
         "unknown"
        ],
        [
         "40",
         "unknown"
        ],
        [
         "41",
         "Steven Spielberg"
        ],
        [
         "42",
         "Jeannot Szwarc"
        ],
        [
         "43",
         "Joe Alves"
        ],
        [
         "44",
         "Joseph Sargent"
        ],
        [
         "45",
         "Tyler Greco"
        ],
        [
         "46",
         "Daniel Espinosa"
        ],
        [
         "47",
         "Bunmi Ajakaiye"
        ],
        [
         "48",
         "Antoine Fuqua"
        ],
        [
         "49",
         "unknown"
        ]
       ],
       "shape": {
        "columns": 1,
        "rows": 8807
       }
      },
      "text/plain": [
       "0       Kirsten Johnson\n",
       "1               unknown\n",
       "2       Julien Leclercq\n",
       "3               unknown\n",
       "4               unknown\n",
       "             ...       \n",
       "8802      David Fincher\n",
       "8803            unknown\n",
       "8804    Ruben Fleischer\n",
       "8805       Peter Hewitt\n",
       "8806        Mozez Singh\n",
       "Name: director, Length: 8807, dtype: object"
      ]
     },
     "execution_count": 11,
     "metadata": {},
     "output_type": "execute_result"
    }
   ],
   "source": [
    "# Handling missing values\n",
    "df['director'].fillna(\"unknown\")"
   ]
  },
  {
   "cell_type": "code",
   "execution_count": 12,
   "id": "b810b006",
   "metadata": {},
   "outputs": [
    {
     "data": {
      "application/vnd.microsoft.datawrangler.viewer.v0+json": {
       "columns": [
        {
         "name": "index",
         "rawType": "int64",
         "type": "integer"
        },
        {
         "name": "cast",
         "rawType": "object",
         "type": "string"
        }
       ],
       "ref": "6566103c-4de8-442f-9a02-384d687aa5a6",
       "rows": [
        [
         "0",
         "NA"
        ],
        [
         "1",
         "Ama Qamata, Khosi Ngema, Gail Mabalane, Thabang Molaba, Dillon Windvogel, Natasha Thahane, Arno Greeff, Xolile Tshabalala, Getmore Sithole, Cindy Mahlangu, Ryle De Morny, Greteli Fincham, Sello Maake Ka-Ncube, Odwa Gwanya, Mekaila Mathys, Sandi Schultz, Duane Williams, Shamilla Miller, Patrick Mofokeng"
        ],
        [
         "2",
         "Sami Bouajila, Tracy Gotoas, Samuel Jouy, Nabiha Akkari, Sofia Lesaffre, Salim Kechiouche, Noureddine Farihi, Geert Van Rampelberg, Bakary Diombera"
        ],
        [
         "3",
         "NA"
        ],
        [
         "4",
         "Mayur More, Jitendra Kumar, Ranjan Raj, Alam Khan, Ahsaas Channa, Revathi Pillai, Urvi Singh, Arun Kumar"
        ],
        [
         "5",
         "Kate Siegel, Zach Gilford, Hamish Linklater, Henry Thomas, Kristin Lehman, Samantha Sloyan, Igby Rigney, Rahul Kohli, Annarah Cymone, Annabeth Gish, Alex Essoe, Rahul Abburi, Matt Biedel, Michael Trucco, Crystal Balint, Louis Oliver"
        ],
        [
         "6",
         "Vanessa Hudgens, Kimiko Glenn, James Marsden, Sofia Carson, Liza Koshy, Ken Jeong, Elizabeth Perkins, Jane Krakowski, Michael McKean, Phil LaMarr"
        ],
        [
         "7",
         "Kofi Ghanaba, Oyafunmike Ogunlano, Alexandra Duah, Nick Medley, Mutabaruka, Afemo Omilami, Reggie Carter, Mzuri"
        ],
        [
         "8",
         "Mel Giedroyc, Sue Perkins, Mary Berry, Paul Hollywood"
        ],
        [
         "9",
         "Melissa McCarthy, Chris O'Dowd, Kevin Kline, Timothy Olyphant, Daveed Diggs, Skyler Gisondo, Laura Harrier, Rosalind Chao, Kimberly Quinn, Loretta Devine, Ravi Kapoor"
        ],
        [
         "10",
         "NA"
        ],
        [
         "11",
         "Sukollawat Kanarot, Sushar Manaying, Pavarit Mongkolpisit, Sahajak Boonthanakit, Suthipongse Thatphithakkul, Bhasaworn Bawronkirati, Daweerit Chullasapya, Waratthaya Wongchayaporn, Kittiphoom Wongpentak, Abhicha Thanachanun, Nophand Boonyai, Kittipong Khamsat, Arisara Wongchalee, Jaytiya Naiwattanakul, Pantipa Arunwattanachai, Panupan Jantanawong, Kungtap Saelim, Phumphat Chartsuriyakiat, Issara Veranitinunt, Keerati Sivakuae, Panjai Sirisuwan, Supranee Charoenpol, Suda Chuenban, Visaka Banhansupavat, Pitchatorn Santinatornkul"
        ],
        [
         "12",
         "Luna Wedler, Jannis Niewöhner, Milan Peschel, Edin Hasanović, Anna Fialová, Marlon Boess, Victor Boccard, Fleur Geffrier, Aziz Dyab, Mélanie Fouché, Elizaveta Maximová"
        ],
        [
         "13",
         "Klara Castanho, Lucca Picon, Júlia Gomes, Marcus Bessa, Kiria Malheiros, Fernanda Concon, Gabriel Lima, Caio Cabral, Leonardo Cidade, Jade Cardozo"
        ],
        [
         "14",
         "NA"
        ],
        [
         "15",
         "Logan Browning, Brandon P. Bell, DeRon Horton, Antoinette Robertson, John Patrick Amedori, Ashley Blaine Featherson, Marque Richardson, Giancarlo Esposito"
        ],
        [
         "16",
         "NA"
        ],
        [
         "17",
         "Luis Ernesto Franco, Camila Sodi, Sergio Goyri, Samadhi Zendejas, Eduardo Yáñez, Sonya Smith, Alejandro Camacho, Azela Robinson, Uriel del Toro, Géraldine Bazán, Gabriela Roel, Marcus Ornellas"
        ],
        [
         "18",
         "Freida Pinto, Logan Marshall-Green, Robert John Burke, Megan Elisabeth Kelly, Sarah Minnich, Hayes Hargrove, Mark Sivertsen, Brandon Fierro, Antonio Valles, Clint Obenchain"
        ],
        [
         "19",
         "Blanca Suárez, Iván Marcos, Óscar Casas, Adrián Lastra, Francesc Garrido, Stefan Weinert, Julia Möller, Alicia Chojnowski"
        ],
        [
         "20",
         "NA"
        ],
        [
         "21",
         "Engin Altan Düzyatan, Serdar Gökhan, Hülya Darcan, Kaan Taşaner, Esra Bilgiç, Osman Soykut, Serdar Deniz, Cengiz Coşkun, Reshad Strik, Hande Subaşı"
        ],
        [
         "22",
         "Kamal Hassan, Meena, Gemini Ganesan, Heera Rajgopal, Nassar, S.P. Balasubrahmanyam"
        ],
        [
         "23",
         "Maisie Benson, Paul Killam, Kerry Gudjohnsen, AC Lim"
        ],
        [
         "24",
         "Prashanth, Aishwarya Rai Bachchan, Sri Lakshmi, Nassar"
        ],
        [
         "25",
         "Brooke Satchwell"
        ],
        [
         "26",
         "Arvind Swamy, Kajol, Prabhu Deva, Nassar, S.P. Balasubrahmanyam, Girish Karnad"
        ],
        [
         "27",
         "Adam Sandler, Kevin James, Chris Rock, David Spade, Rob Schneider, Salma Hayek, Maria Bello, Maya Rudolph, Colin Quinn, Tim Meadows, Joyce Van Patten"
        ],
        [
         "28",
         "Keri Russell, Josh Hamilton, J.K. Simmons, Dakota Goyo, Kadan Rockett, L.J. Benet, Rich Hutchman, Myndy Crist, Annie Thurman, Jake Brennan"
        ],
        [
         "29",
         "Liam Hemsworth, Gary Oldman, Amber Heard, Harrison Ford, Lucas Till, Embeth Davidtz, Julian McMahon, Josh Holloway, Richard Dreyfuss, Angela Sarafyan"
        ],
        [
         "30",
         "Abhishek Banerjee, Rinku Rajguru, Delzad Hiwale, Kunal Kapoor, Zoya Hussain, Nikhil Dwivedi, Palomi Ghosh"
        ],
        [
         "31",
         "Lauren Ash, Rory O'Malley, RuPaul Charles, Jill Talley, Ike Barinholtz, Jon Barinholtz, Matthew Craig, Bob Odenkirk, Mike Hagerty, Katie Rich, Chris Witaske"
        ],
        [
         "32",
         "Asa Butterfield, Gillian Anderson, Ncuti Gatwa, Emma Mackey, Connor Swindells, Kedar Williams-Stirling, Alistair Petrie"
        ],
        [
         "33",
         "Lee Jung-jae, Park Hae-soo, Wi Ha-jun, Oh Young-soo, Jung Ho-yeon, Heo Sung-tae, Kim Joo-ryoung, Tripathi Anupam, You Seong-joo, Lee You-mi"
        ],
        [
         "34",
         "Dami Lee, Jason Lee, Bommie Catherine Han, Jennifer Waescher, Nancy Kim"
        ],
        [
         "35",
         "Adrian Titieni, Elena Purea, Judith State, Valeriu Andriuță, Tudor Smoleanu, Virgil Aioanei, Radu Botar, Petronela Grigorescu, Bogdan Nechifor, Cristian Bota"
        ],
        [
         "36",
         "Gilles Lellouche, Karim Leklou, François Civil, Adèle Exarchopoulos, Kenza Fortas, Cyril Lecomte, Michaël Abiteboul, Idir Azougli, Vincent Darmuzey, Jean-Yves Berteloot"
        ],
        [
         "37",
         "Antti Pääkkönen, Heljä Heikkinen, Lynne Guaglione, Pasi Ruohonen, Rauno Ahonen"
        ],
        [
         "38",
         "Billy Magnussen, Ron Yuan, Qu Jingjing, Terry Chen, Vanness Wu, Jin Xing, Philip Ng, Xia Yu, Yu Xia"
        ],
        [
         "39",
         "Vatsal Dubey, Julie Tejwani, Rupa Bhimani, Jigna Bhardwaj, Rajesh Kava, Mousam, Swapnil"
        ],
        [
         "40",
         "Yuri Lowenthal, Kimberly Brooks, Antony Del Rio, Trevor Devall, Ben Diskin, Grey Griffin, David Kaye, Tom Kenny, Judy Alice Lee, Roger Craig Smith, Fred Tatasciore"
        ],
        [
         "41",
         "Roy Scheider, Robert Shaw, Richard Dreyfuss, Lorraine Gary, Murray Hamilton, Carl Gottlieb, Jeffrey Kramer, Susan Backlinie, Jonathan Filley, Ted Grossman"
        ],
        [
         "42",
         "Roy Scheider, Lorraine Gary, Murray Hamilton, Joseph Mascolo, Jeffrey Kramer, Collin Wilcox Paxton, Ann Dusenberry, Mark Gruner, Barry Coe, Susan French"
        ],
        [
         "43",
         "Dennis Quaid, Bess Armstrong, Simon MacCorkindale, Louis Gossett Jr., John Putch, Lea Thompson, P.H. Moriarty, Dan Blasko, Liz Morris, Lisa Maurer"
        ],
        [
         "44",
         "Lorraine Gary, Lance Guest, Mario Van Peebles, Karen Young, Michael Caine, Judith Barsi, Mitchell Anderson, Lynn Whitfield"
        ],
        [
         "45",
         "NA"
        ],
        [
         "46",
         "Denzel Washington, Ryan Reynolds, Vera Farmiga, Brendan Gleeson, Sam Shepard, Rubén Blades, Nora Arnezeder, Robert Patrick, Liam Cunningham, Joel Kinnaman"
        ],
        [
         "47",
         "Osas Ighodaro, Ini Dima-Okojie, Kemi Lala Akindoju, Toni Tones, Ebenezer Eno, Eso Okolocha DIke, Patrick Diabuah, Karibi Fubara, Temisan Emmanuel, Timini Egbuson"
        ],
        [
         "48",
         "Denzel Washington, Ethan Hawke, Scott Glenn, Tom Berenger, Harris Yulin, Raymond J. Barry, Cliff Curtis, Dr. Dre, Snoop Dogg, Macy Gray, Eva Mendes"
        ],
        [
         "49",
         "Richard Mofe-Damijo, Dakore Akande, Bimbo Manuel, Blossom Chukwujekwu, Deyemi Okanlawon, Etim Effiong, Denola Grey, Duke Akintola, Eku Edewor, Ade Laoye, Anee Icha, Kevin Ushi, Jude Chukwuka, Amanda Afolabi"
        ]
       ],
       "shape": {
        "columns": 1,
        "rows": 8807
       }
      },
      "text/plain": [
       "0                                                      NA\n",
       "1       Ama Qamata, Khosi Ngema, Gail Mabalane, Thaban...\n",
       "2       Sami Bouajila, Tracy Gotoas, Samuel Jouy, Nabi...\n",
       "3                                                      NA\n",
       "4       Mayur More, Jitendra Kumar, Ranjan Raj, Alam K...\n",
       "                              ...                        \n",
       "8802    Mark Ruffalo, Jake Gyllenhaal, Robert Downey J...\n",
       "8803                                                   NA\n",
       "8804    Jesse Eisenberg, Woody Harrelson, Emma Stone, ...\n",
       "8805    Tim Allen, Courteney Cox, Chevy Chase, Kate Ma...\n",
       "8806    Vicky Kaushal, Sarah-Jane Dias, Raaghav Chanan...\n",
       "Name: cast, Length: 8807, dtype: object"
      ]
     },
     "execution_count": 12,
     "metadata": {},
     "output_type": "execute_result"
    }
   ],
   "source": [
    "df['cast'].fillna(\"NA\")"
   ]
  },
  {
   "cell_type": "code",
   "execution_count": 13,
   "id": "c64c2806",
   "metadata": {},
   "outputs": [
    {
     "data": {
      "application/vnd.microsoft.datawrangler.viewer.v0+json": {
       "columns": [
        {
         "name": "index",
         "rawType": "int64",
         "type": "integer"
        },
        {
         "name": "country",
         "rawType": "object",
         "type": "string"
        }
       ],
       "ref": "80ea6969-006b-4ad4-89c9-f6ab99a10a3e",
       "rows": [
        [
         "0",
         "United States"
        ],
        [
         "1",
         "South Africa"
        ],
        [
         "2",
         "unknown"
        ],
        [
         "3",
         "unknown"
        ],
        [
         "4",
         "India"
        ],
        [
         "5",
         "unknown"
        ],
        [
         "6",
         "unknown"
        ],
        [
         "7",
         "United States, Ghana, Burkina Faso, United Kingdom, Germany, Ethiopia"
        ],
        [
         "8",
         "United Kingdom"
        ],
        [
         "9",
         "United States"
        ],
        [
         "10",
         "unknown"
        ],
        [
         "11",
         "unknown"
        ],
        [
         "12",
         "Germany, Czech Republic"
        ],
        [
         "13",
         "unknown"
        ],
        [
         "14",
         "unknown"
        ],
        [
         "15",
         "United States"
        ],
        [
         "16",
         "unknown"
        ],
        [
         "17",
         "Mexico"
        ],
        [
         "18",
         "unknown"
        ],
        [
         "19",
         "unknown"
        ],
        [
         "20",
         "unknown"
        ],
        [
         "21",
         "Turkey"
        ],
        [
         "22",
         "unknown"
        ],
        [
         "23",
         "unknown"
        ],
        [
         "24",
         "India"
        ],
        [
         "25",
         "Australia"
        ],
        [
         "26",
         "unknown"
        ],
        [
         "27",
         "United States"
        ],
        [
         "28",
         "United States"
        ],
        [
         "29",
         "United States, India, France"
        ],
        [
         "30",
         "unknown"
        ],
        [
         "31",
         "unknown"
        ],
        [
         "32",
         "United Kingdom"
        ],
        [
         "33",
         "unknown"
        ],
        [
         "34",
         "unknown"
        ],
        [
         "35",
         "unknown"
        ],
        [
         "36",
         "unknown"
        ],
        [
         "37",
         "Finland"
        ],
        [
         "38",
         "China, Canada, United States"
        ],
        [
         "39",
         "India"
        ],
        [
         "40",
         "United States"
        ],
        [
         "41",
         "United States"
        ],
        [
         "42",
         "United States"
        ],
        [
         "43",
         "United States"
        ],
        [
         "44",
         "United States"
        ],
        [
         "45",
         "unknown"
        ],
        [
         "46",
         "South Africa, United States, Japan"
        ],
        [
         "47",
         "unknown"
        ],
        [
         "48",
         "United States"
        ],
        [
         "49",
         "Nigeria"
        ]
       ],
       "shape": {
        "columns": 1,
        "rows": 8807
       }
      },
      "text/plain": [
       "0       United States\n",
       "1        South Africa\n",
       "2             unknown\n",
       "3             unknown\n",
       "4               India\n",
       "            ...      \n",
       "8802    United States\n",
       "8803          unknown\n",
       "8804    United States\n",
       "8805    United States\n",
       "8806            India\n",
       "Name: country, Length: 8807, dtype: object"
      ]
     },
     "execution_count": 13,
     "metadata": {},
     "output_type": "execute_result"
    }
   ],
   "source": [
    "df['country'].fillna(\"unknown\")"
   ]
  },
  {
   "cell_type": "code",
   "execution_count": 14,
   "id": "48f133fa",
   "metadata": {},
   "outputs": [
    {
     "data": {
      "application/vnd.microsoft.datawrangler.viewer.v0+json": {
       "columns": [
        {
         "name": "index",
         "rawType": "int64",
         "type": "integer"
        },
        {
         "name": "rating",
         "rawType": "object",
         "type": "string"
        }
       ],
       "ref": "12a320bc-2139-47de-8520-8df62410b48f",
       "rows": [
        [
         "0",
         "PG-13"
        ],
        [
         "1",
         "TV-MA"
        ],
        [
         "2",
         "TV-MA"
        ],
        [
         "3",
         "TV-MA"
        ],
        [
         "4",
         "TV-MA"
        ],
        [
         "5",
         "TV-MA"
        ],
        [
         "6",
         "PG"
        ],
        [
         "7",
         "TV-MA"
        ],
        [
         "8",
         "TV-14"
        ],
        [
         "9",
         "PG-13"
        ],
        [
         "10",
         "TV-MA"
        ],
        [
         "11",
         "TV-MA"
        ],
        [
         "12",
         "TV-MA"
        ],
        [
         "13",
         "TV-PG"
        ],
        [
         "14",
         "TV-MA"
        ],
        [
         "15",
         "TV-MA"
        ],
        [
         "16",
         "TV-MA"
        ],
        [
         "17",
         "TV-MA"
        ],
        [
         "18",
         "TV-14"
        ],
        [
         "19",
         "TV-MA"
        ],
        [
         "20",
         "TV-14"
        ],
        [
         "21",
         "TV-14"
        ],
        [
         "22",
         "TV-PG"
        ],
        [
         "23",
         "TV-Y"
        ],
        [
         "24",
         "TV-14"
        ],
        [
         "25",
         "TV-14"
        ],
        [
         "26",
         "TV-PG"
        ],
        [
         "27",
         "PG-13"
        ],
        [
         "28",
         "PG-13"
        ],
        [
         "29",
         "PG-13"
        ],
        [
         "30",
         "TV-14"
        ],
        [
         "31",
         "TV-MA"
        ],
        [
         "32",
         "TV-MA"
        ],
        [
         "33",
         "TV-MA"
        ],
        [
         "34",
         "TV-Y7"
        ],
        [
         "35",
         "TV-MA"
        ],
        [
         "36",
         "TV-MA"
        ],
        [
         "37",
         "TV-Y7"
        ],
        [
         "38",
         "PG-13"
        ],
        [
         "39",
         "TV-Y7"
        ],
        [
         "40",
         "TV-Y7"
        ],
        [
         "41",
         "PG"
        ],
        [
         "42",
         "PG"
        ],
        [
         "43",
         "PG"
        ],
        [
         "44",
         "PG-13"
        ],
        [
         "45",
         "PG"
        ],
        [
         "46",
         "R"
        ],
        [
         "47",
         "TV-MA"
        ],
        [
         "48",
         "R"
        ],
        [
         "49",
         "TV-MA"
        ]
       ],
       "shape": {
        "columns": 1,
        "rows": 8807
       }
      },
      "text/plain": [
       "0       PG-13\n",
       "1       TV-MA\n",
       "2       TV-MA\n",
       "3       TV-MA\n",
       "4       TV-MA\n",
       "        ...  \n",
       "8802        R\n",
       "8803    TV-Y7\n",
       "8804        R\n",
       "8805       PG\n",
       "8806    TV-14\n",
       "Name: rating, Length: 8807, dtype: object"
      ]
     },
     "execution_count": 14,
     "metadata": {},
     "output_type": "execute_result"
    }
   ],
   "source": [
    "df['rating'].fillna(\"0\")"
   ]
  },
  {
   "cell_type": "code",
   "execution_count": 15,
   "id": "cbc83ba0",
   "metadata": {},
   "outputs": [
    {
     "data": {
      "application/vnd.microsoft.datawrangler.viewer.v0+json": {
       "columns": [
        {
         "name": "index",
         "rawType": "int64",
         "type": "integer"
        },
        {
         "name": "duration",
         "rawType": "object",
         "type": "string"
        }
       ],
       "ref": "74a713d5-a45e-418e-8b21-cfd7c1f72b0a",
       "rows": [
        [
         "0",
         "90 min"
        ],
        [
         "1",
         "2 Seasons"
        ],
        [
         "2",
         "1 Season"
        ],
        [
         "3",
         "1 Season"
        ],
        [
         "4",
         "2 Seasons"
        ],
        [
         "5",
         "1 Season"
        ],
        [
         "6",
         "91 min"
        ],
        [
         "7",
         "125 min"
        ],
        [
         "8",
         "9 Seasons"
        ],
        [
         "9",
         "104 min"
        ],
        [
         "10",
         "1 Season"
        ],
        [
         "11",
         "1 Season"
        ],
        [
         "12",
         "127 min"
        ],
        [
         "13",
         "91 min"
        ],
        [
         "14",
         "1 Season"
        ],
        [
         "15",
         "4 Seasons"
        ],
        [
         "16",
         "67 min"
        ],
        [
         "17",
         "2 Seasons"
        ],
        [
         "18",
         "94 min"
        ],
        [
         "19",
         "1 Season"
        ],
        [
         "20",
         "1 Season"
        ],
        [
         "21",
         "5 Seasons"
        ],
        [
         "22",
         "161 min"
        ],
        [
         "23",
         "61 min"
        ],
        [
         "24",
         "166 min"
        ],
        [
         "25",
         "2 Seasons"
        ],
        [
         "26",
         "147 min"
        ],
        [
         "27",
         "103 min"
        ],
        [
         "28",
         "97 min"
        ],
        [
         "29",
         "106 min"
        ],
        [
         "30",
         "111 min"
        ],
        [
         "31",
         "1 Season"
        ],
        [
         "32",
         "3 Seasons"
        ],
        [
         "33",
         "1 Season"
        ],
        [
         "34",
         "1 Season"
        ],
        [
         "35",
         "110 min"
        ],
        [
         "36",
         "105 min"
        ],
        [
         "37",
         "1 Season"
        ],
        [
         "38",
         "96 min"
        ],
        [
         "39",
         "3 Seasons"
        ],
        [
         "40",
         "1 Season"
        ],
        [
         "41",
         "124 min"
        ],
        [
         "42",
         "116 min"
        ],
        [
         "43",
         "98 min"
        ],
        [
         "44",
         "91 min"
        ],
        [
         "45",
         "23 min"
        ],
        [
         "46",
         "115 min"
        ],
        [
         "47",
         "1 Season"
        ],
        [
         "48",
         "122 min"
        ],
        [
         "49",
         "2 Seasons"
        ]
       ],
       "shape": {
        "columns": 1,
        "rows": 8807
       }
      },
      "text/plain": [
       "0          90 min\n",
       "1       2 Seasons\n",
       "2        1 Season\n",
       "3        1 Season\n",
       "4       2 Seasons\n",
       "          ...    \n",
       "8802      158 min\n",
       "8803    2 Seasons\n",
       "8804       88 min\n",
       "8805       88 min\n",
       "8806      111 min\n",
       "Name: duration, Length: 8807, dtype: object"
      ]
     },
     "execution_count": 15,
     "metadata": {},
     "output_type": "execute_result"
    }
   ],
   "source": [
    "df['duration'].fillna(\"0\")"
   ]
  },
  {
   "cell_type": "code",
   "execution_count": 18,
   "id": "08aeb90a",
   "metadata": {},
   "outputs": [
    {
     "name": "stderr",
     "output_type": "stream",
     "text": [
      "C:\\Users\\subha\\AppData\\Local\\Temp\\ipykernel_7952\\138404842.py:1: FutureWarning: Series.fillna with 'method' is deprecated and will raise in a future version. Use obj.ffill() or obj.bfill() instead.\n",
      "  df['date_added'].fillna(method='ffill')\n"
     ]
    },
    {
     "data": {
      "application/vnd.microsoft.datawrangler.viewer.v0+json": {
       "columns": [
        {
         "name": "index",
         "rawType": "int64",
         "type": "integer"
        },
        {
         "name": "date_added",
         "rawType": "object",
         "type": "string"
        }
       ],
       "ref": "79d7238d-fdd6-4e3e-8eab-8fc5812e36ed",
       "rows": [
        [
         "0",
         "September 25, 2021"
        ],
        [
         "1",
         "September 24, 2021"
        ],
        [
         "2",
         "September 24, 2021"
        ],
        [
         "3",
         "September 24, 2021"
        ],
        [
         "4",
         "September 24, 2021"
        ],
        [
         "5",
         "September 24, 2021"
        ],
        [
         "6",
         "September 24, 2021"
        ],
        [
         "7",
         "September 24, 2021"
        ],
        [
         "8",
         "September 24, 2021"
        ],
        [
         "9",
         "September 24, 2021"
        ],
        [
         "10",
         "September 24, 2021"
        ],
        [
         "11",
         "September 23, 2021"
        ],
        [
         "12",
         "September 23, 2021"
        ],
        [
         "13",
         "September 22, 2021"
        ],
        [
         "14",
         "September 22, 2021"
        ],
        [
         "15",
         "September 22, 2021"
        ],
        [
         "16",
         "September 22, 2021"
        ],
        [
         "17",
         "September 22, 2021"
        ],
        [
         "18",
         "September 22, 2021"
        ],
        [
         "19",
         "September 22, 2021"
        ],
        [
         "20",
         "September 22, 2021"
        ],
        [
         "21",
         "September 22, 2021"
        ],
        [
         "22",
         "September 21, 2021"
        ],
        [
         "23",
         "September 21, 2021"
        ],
        [
         "24",
         "September 21, 2021"
        ],
        [
         "25",
         "September 21, 2021"
        ],
        [
         "26",
         "September 21, 2021"
        ],
        [
         "27",
         "September 20, 2021"
        ],
        [
         "28",
         "September 19, 2021"
        ],
        [
         "29",
         "September 19, 2021"
        ],
        [
         "30",
         "September 17, 2021"
        ],
        [
         "31",
         "September 17, 2021"
        ],
        [
         "32",
         "September 17, 2021"
        ],
        [
         "33",
         "September 17, 2021"
        ],
        [
         "34",
         "September 17, 2021"
        ],
        [
         "35",
         "September 17, 2021"
        ],
        [
         "36",
         "September 17, 2021"
        ],
        [
         "37",
         "September 16, 2021"
        ],
        [
         "38",
         "September 16, 2021"
        ],
        [
         "39",
         "September 16, 2021"
        ],
        [
         "40",
         "September 16, 2021"
        ],
        [
         "41",
         "September 16, 2021"
        ],
        [
         "42",
         "September 16, 2021"
        ],
        [
         "43",
         "September 16, 2021"
        ],
        [
         "44",
         "September 16, 2021"
        ],
        [
         "45",
         "September 16, 2021"
        ],
        [
         "46",
         "September 16, 2021"
        ],
        [
         "47",
         "September 16, 2021"
        ],
        [
         "48",
         "September 16, 2021"
        ],
        [
         "49",
         "September 15, 2021"
        ]
       ],
       "shape": {
        "columns": 1,
        "rows": 8807
       }
      },
      "text/plain": [
       "0       September 25, 2021\n",
       "1       September 24, 2021\n",
       "2       September 24, 2021\n",
       "3       September 24, 2021\n",
       "4       September 24, 2021\n",
       "               ...        \n",
       "8802     November 20, 2019\n",
       "8803          July 1, 2019\n",
       "8804      November 1, 2019\n",
       "8805      January 11, 2020\n",
       "8806         March 2, 2019\n",
       "Name: date_added, Length: 8807, dtype: object"
      ]
     },
     "execution_count": 18,
     "metadata": {},
     "output_type": "execute_result"
    }
   ],
   "source": [
    "df['date_added'].fillna(method='ffill')"
   ]
  },
  {
   "cell_type": "code",
   "execution_count": 19,
   "id": "d433e87e",
   "metadata": {},
   "outputs": [],
   "source": [
    "# Convert data types\n",
    "df['date_added']=pd.to_datetime(df['date_added'], errors='coerce')"
   ]
  },
  {
   "cell_type": "code",
   "execution_count": 20,
   "id": "8a3877f9",
   "metadata": {},
   "outputs": [],
   "source": [
    "df['release_year']=df['release_year'].astype(int)"
   ]
  },
  {
   "cell_type": "code",
   "execution_count": 21,
   "id": "a7d1c9ba",
   "metadata": {},
   "outputs": [],
   "source": [
    "# Standardize text values\n",
    "df['country']=df['country'].str.lower()"
   ]
  },
  {
   "cell_type": "code",
   "execution_count": 22,
   "id": "d836eeaf",
   "metadata": {},
   "outputs": [],
   "source": [
    "df['rating']=df['rating'].str.upper()"
   ]
  },
  {
   "cell_type": "code",
   "execution_count": 23,
   "id": "2a2e815f",
   "metadata": {},
   "outputs": [],
   "source": [
    "# Rename columns\n",
    "df.columns = [col.strip().lower().replace(\" \",\"_\") for col in df.columns]"
   ]
  },
  {
   "cell_type": "code",
   "execution_count": 25,
   "id": "2f26ca27",
   "metadata": {},
   "outputs": [
    {
     "name": "stdout",
     "output_type": "stream",
     "text": [
      "After cleaning Missing Values: show_id            0\n",
      "type               0\n",
      "title              0\n",
      "director        2634\n",
      "cast             825\n",
      "country          831\n",
      "date_added        88\n",
      "release_year       0\n",
      "rating             4\n",
      "duration           3\n",
      "listed_in          0\n",
      "description        0\n",
      "dtype: int64\n"
     ]
    }
   ],
   "source": [
    "# Verify cleaned dataset\n",
    "print(\"After cleaning Missing Values:\", df.isnull().sum())"
   ]
  },
  {
   "cell_type": "markdown",
   "id": "4e7fac65",
   "metadata": {},
   "source": []
  },
  {
   "cell_type": "code",
   "execution_count": 29,
   "id": "fa64cdca",
   "metadata": {},
   "outputs": [
    {
     "name": "stdout",
     "output_type": "stream",
     "text": [
      "Data Types After Data cleaning: show_id                 object\n",
      "type                    object\n",
      "title                   object\n",
      "director                object\n",
      "cast                    object\n",
      "country                 object\n",
      "date_added      datetime64[ns]\n",
      "release_year             int64\n",
      "rating                  object\n",
      "duration                object\n",
      "listed_in               object\n",
      "description             object\n",
      "dtype: object\n"
     ]
    }
   ],
   "source": [
    "print(\"Data Types After Data cleaning:\", df.dtypes)"
   ]
  },
  {
   "cell_type": "code",
   "execution_count": 34,
   "id": "ceeb650f",
   "metadata": {},
   "outputs": [
    {
     "name": "stdout",
     "output_type": "stream",
     "text": [
      "✅ Cleaned dataset saved successfully as 'netflix_titles_cleaned.csv'\n"
     ]
    }
   ],
   "source": [
    "# Save Cleaned Dataset\n",
    "file = \"netflix_titles_cleaned.csv\"\n",
    "df.to_csv(file, index=False)\n",
    "\n",
    "print(f\"✅ Cleaned dataset saved successfully as '{file}'\")\n"
   ]
  },
  {
   "cell_type": "code",
   "execution_count": null,
   "id": "f96da1a8",
   "metadata": {},
   "outputs": [],
   "source": []
  }
 ],
 "metadata": {
  "kernelspec": {
   "display_name": "Python 3",
   "language": "python",
   "name": "python3"
  },
  "language_info": {
   "codemirror_mode": {
    "name": "ipython",
    "version": 3
   },
   "file_extension": ".py",
   "mimetype": "text/x-python",
   "name": "python",
   "nbconvert_exporter": "python",
   "pygments_lexer": "ipython3",
   "version": "3.13.5"
  }
 },
 "nbformat": 4,
 "nbformat_minor": 5
}
